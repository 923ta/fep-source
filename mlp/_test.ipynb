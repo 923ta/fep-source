{
 "cells": [
  {
   "cell_type": "code",
   "execution_count": 1,
   "id": "9879a8cf",
   "metadata": {},
   "outputs": [],
   "source": [
    "import numpy as np\n",
    "import matplotlib.pyplot as plt"
   ]
  },
  {
   "cell_type": "code",
   "execution_count": null,
   "id": "b1636897",
   "metadata": {},
   "outputs": [],
   "source": [
    "def relu(x):\n",
    "    return x * (x > 0)\n",
    "\n",
    "def softmax(x):\n",
    "    e = np.exp(x)\n",
    "    return e / np.sum(e)\n",
    "\n",
    "def forward(V):\n",
    "    global W1\n",
    "    global W2\n",
    "    H = relu(np.dot(V, W1))\n",
    "#     U = softmax(np.dot(H, W2))\n",
    "    U = np.dot(H, W2)\n",
    "    return U, H\n",
    "\n",
    "def backward(V, H, U, D):\n",
    "    global W1\n",
    "    global W2\n",
    "    dE2 = -D/U\n",
    "    dU = H.reshape(len(H), 1)\n",
    "    dW2 = dU*dE2\n",
    "    dE1 = np.sum(dW2)\n",
    "    dR = H > 0\n",
    "    dH = V.reshape(len(V), 1)\n",
    "    dER = dE1*dR\n",
    "    dW1 = np.dot(dH, dER.reshape(1, len(dER)))\n",
    "    \n",
    "    W2 -= learning_rate * dW2\n",
    "    W1 -= learning_rate * dW1"
   ]
  },
  {
   "cell_type": "code",
   "execution_count": null,
   "id": "56fc2020",
   "metadata": {},
   "outputs": [],
   "source": [
    "input_size, hidden_size, output_size = 1, 10, 1\n",
    "learning_rate = 0.001\n",
    "W1 = np.random.randn(input_size, hidden_size) / np.sqrt(input_size) * np.sqrt(2)\n",
    "W2 = np.random.randn(hidden_size, output_size) / np.sqrt(hidden_size) * np.sqrt(2)"
   ]
  },
  {
   "cell_type": "code",
   "execution_count": null,
   "id": "1febc110",
   "metadata": {},
   "outputs": [],
   "source": [
    "# for i in range(100):\n",
    "# 順伝搬\n",
    "V = np.random.rand(1)\n",
    "H = relu(np.dot(V, W1))\n",
    "# U = softmax(np.dot(H, W2))\n",
    "U = np.dot(H, W2)\n",
    "\n",
    "print(\"V:\",V)\n",
    "print(\"H:\",H)\n",
    "print(\"U:\",U)\n",
    "\n",
    "# 誤差逆伝搬\n",
    "D = np.sin(2 * np.pi * V)\n",
    "print(\"D:\",D)\n",
    "dE2 = 2 * (D - U)\n",
    "dU = H.reshape(len(H), 1)\n",
    "dW2 = dU * dE2\n",
    "print(\"dE2:\",dE2)\n",
    "print(\"dU:\",dU)\n",
    "print(\"dW2:\", dW2)\n",
    "# dE1 = np.sum(dW2, axis=1)\n",
    "dR = H > 0\n",
    "# dH = V.reshape(len(V), 1)\n",
    "# dER = dE1*dR\n",
    "# dW1 = np.dot(dH, dER.reshape(1, len(dER)))\n",
    "\n",
    "dE1 = np.dot(dE2, W2.reshape(1, len(W2))) * dR\n",
    "dW1 = np.dot(V.reshape(len(V), 1), dE1.reshape(1, len(dE1)))\n",
    "print(\"dE1:\",dE1)\n",
    "print(\"dR:\",dR)\n",
    "# print(\"dE1*dR:\",dE1*dR)\n",
    "# print(\"dH:\",dH)\n",
    "print(\"dW1:\", dW1)\n",
    "W2 -= learning_rate * dW2\n",
    "W1 -= learning_rate * dW1\n",
    "print(\"W2:\",W2)\n",
    "print(\"W1:\", W1)"
   ]
  },
  {
   "cell_type": "code",
   "execution_count": null,
   "id": "e8e344c8",
   "metadata": {},
   "outputs": [],
   "source": [
    "# D = np.sin(2 * np.pi * V)\n",
    "D = -3\n",
    "isNeg = D < 0\n",
    "if(isNeg):\n",
    "    D_bin_str = bin(int(D*32) & 0b11111111)\n",
    "    D_bin_str = D_bin_str[2:]\n",
    "    D_bin = np.empty(0)\n",
    "    for i in D_bin_str:\n",
    "        D_bin = np.append(D_bin, int(i))\n",
    "else:\n",
    "    D_bin_str = format(int(D*32), 'b')\n",
    "    num = 8 - len(D_bin_str)\n",
    "    for i in range(num):\n",
    "        D_bin_str = '0' + D_bin_str\n",
    "    D_bin = np.empty(0)\n",
    "    for i in D_bin_str:\n",
    "        D_bin = np.append(D_bin, int(i))\n",
    "\n",
    "print(D)\n",
    "print(type(D_bin[0]))"
   ]
  },
  {
   "cell_type": "code",
   "execution_count": null,
   "id": "884d139e",
   "metadata": {},
   "outputs": [],
   "source": [
    "V = np.array([5])\n",
    "U = np.array([2])\n",
    "D = np.array([1])\n",
    "H = np.array([1,1,1,1,1,0,0,0,0,0])\n",
    "W1 = np.array([[10,10,10,10,10,10,10,10,10,10]])\n",
    "W2 = np.array([[10],[10],[10],[10],[10],[10],[10],[10],[10],[10]])\n",
    "print(\"W2:\",W2)\n",
    "print(\"W1:\", W1)\n",
    "\n",
    "dE2 = 2 * (U - D)\n",
    "dU = H.reshape(len(H), 1)\n",
    "dW2 = dU*dE2\n",
    "dE1 = np.sum(dW2, axis=1)\n",
    "dR = H > 0\n",
    "dH = V.reshape(len(V), 1)\n",
    "dER = dE1*dR\n",
    "dW1 = np.dot(dH, dER.reshape(1, len(dER)))\n",
    "print(\"dE2:\",dE2)\n",
    "print(\"dU:\",dU)\n",
    "print(\"dW2:\", dW2)\n",
    "print(\"dE1:\",dE1)\n",
    "print(\"dR:\",dR)\n",
    "print(\"dE1*dR:\",dE1*dR)\n",
    "print(\"dH:\",dH)\n",
    "print(\"dW1:\", dW1)\n",
    "\n",
    "W2 -= learning_rate * dW2\n",
    "W1 -= learning_rate * dW1\n",
    "\n",
    "\n",
    "print(\"W2:\",W2)\n",
    "print(\"W1:\", W1)"
   ]
  }
 ],
 "metadata": {
  "kernelspec": {
   "display_name": "Python 3 (ipykernel)",
   "language": "python",
   "name": "python3"
  },
  "language_info": {
   "codemirror_mode": {
    "name": "ipython",
    "version": 3
   },
   "file_extension": ".py",
   "mimetype": "text/x-python",
   "name": "python",
   "nbconvert_exporter": "python",
   "pygments_lexer": "ipython3",
   "version": "3.8.12"
  },
  "vscode": {
   "interpreter": {
    "hash": "a479850c5cd550af5422c7ceaf97f3186e82cfffbc8ef37ea8339a2e77fd0f88"
   }
  }
 },
 "nbformat": 4,
 "nbformat_minor": 5
}

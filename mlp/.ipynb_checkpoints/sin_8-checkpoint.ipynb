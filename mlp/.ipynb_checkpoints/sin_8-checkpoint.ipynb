{
 "cells": [
  {
   "cell_type": "code",
   "execution_count": 1,
   "metadata": {},
   "outputs": [],
   "source": [
    "import numpy as np\n",
    "import matplotlib.pyplot as plt"
   ]
  },
  {
   "cell_type": "code",
   "execution_count": 2,
   "metadata": {},
   "outputs": [],
   "source": [
    "input_size, hidden_size, output_size = 8, 10, 8\n",
    "learning_rate = 0.001\n",
    "epoch = 100"
   ]
  },
  {
   "cell_type": "code",
   "execution_count": 3,
   "metadata": {},
   "outputs": [],
   "source": [
    "def relu(x):\n",
    "    return x * (x > 0)\n",
    "\n",
    "def softmax(x):\n",
    "    e = np.exp(x)\n",
    "    return e / np.sum(e)\n",
    "\n",
    "def forward(V):\n",
    "    global W1\n",
    "    global W2\n",
    "    H = relu(np.dot(V, W1))\n",
    "    U = softmax(np.dot(H, W2))\n",
    "    return U, H\n",
    "\n",
    "def backward(V, H, U, D):\n",
    "    global W1\n",
    "    global W2\n",
    "    dE2 = U - D\n",
    "    dU = H.reshape(len(H), 1)\n",
    "    dW2 = dU*dE2\n",
    "    dE1 = np.sum(dW2)\n",
    "    dR = H > 0\n",
    "    dH = V.reshape(len(V), 1)\n",
    "    dER = dE1*dR\n",
    "    dW1 = np.dot(dH, dER.reshape(1, len(dER)))\n",
    "    \n",
    "    W2 -= learning_rate * dW2\n",
    "    W1 -= learning_rate * dW1\n",
    "    \n",
    "def toBin(IN):\n",
    "    isNeg = IN < 0\n",
    "    if (isNeg) :\n",
    "        IN_bin_str = bin(int(IN*32) & 0b11111111)\n",
    "        IN_bin_str = IN_bin_str[2:]\n",
    "        IN_bin = np.empty(0)\n",
    "        for i in IN_bin_str:\n",
    "            IN_bin = np.append(IN_bin, int(i))\n",
    "    else :\n",
    "        IN_bin_str = format(int(IN*32), 'b')\n",
    "        num = 8 - len(IN_bin_str)\n",
    "        for i in range(num):\n",
    "            IN_bin_str = '0' + IN_bin_str\n",
    "        IN_bin = np.empty(0)\n",
    "        for i in IN_bin_str:\n",
    "            IN_bin = np.append(IN_bin, int(i))\n",
    "            \n",
    "    return IN_bin\n",
    "\n",
    "def toInt(IN):\n",
    "    IN_str = ''.join(IN)\n",
    "    OUT = int(IN_str, 2) \n",
    "    return OUT"
   ]
  },
  {
   "cell_type": "code",
   "execution_count": 4,
   "metadata": {},
   "outputs": [],
   "source": [
    "np.random.seed(0)\n",
    "W1 = np.random.randn(input_size, hidden_size) / np.sqrt(input_size) * np.sqrt(2)\n",
    "W2 = np.random.randn(hidden_size, output_size) / np.sqrt(hidden_size) * np.sqrt(2)"
   ]
  },
  {
   "cell_type": "code",
   "execution_count": 5,
   "metadata": {},
   "outputs": [
    {
     "ename": "TypeError",
     "evalue": "sequence item 0: expected str instance, numpy.bool_ found",
     "output_type": "error",
     "traceback": [
      "\u001b[1;31m---------------------------------------------------------------------------\u001b[0m",
      "\u001b[1;31mTypeError\u001b[0m                                 Traceback (most recent call last)",
      "\u001b[1;32m<ipython-input-5-9c1b4a929e5c>\u001b[0m in \u001b[0;36m<module>\u001b[1;34m\u001b[0m\n\u001b[0;32m     22\u001b[0m     \u001b[0mU\u001b[0m\u001b[1;33m,\u001b[0m \u001b[0mH\u001b[0m \u001b[1;33m=\u001b[0m \u001b[0mforward\u001b[0m\u001b[1;33m(\u001b[0m\u001b[0mV_bin\u001b[0m\u001b[1;33m)\u001b[0m\u001b[1;33m\u001b[0m\u001b[1;33m\u001b[0m\u001b[0m\n\u001b[0;32m     23\u001b[0m     \u001b[0mU\u001b[0m \u001b[1;33m=\u001b[0m \u001b[0mU\u001b[0m \u001b[1;33m>\u001b[0m \u001b[1;36m1\u001b[0m\u001b[1;33m/\u001b[0m\u001b[1;36m8\u001b[0m\u001b[1;33m\u001b[0m\u001b[1;33m\u001b[0m\u001b[0m\n\u001b[1;32m---> 24\u001b[1;33m     \u001b[0mU\u001b[0m \u001b[1;33m=\u001b[0m \u001b[0mtoInt\u001b[0m\u001b[1;33m(\u001b[0m\u001b[0mU\u001b[0m\u001b[1;33m)\u001b[0m\u001b[1;33m\u001b[0m\u001b[1;33m\u001b[0m\u001b[0m\n\u001b[0m\u001b[0;32m     25\u001b[0m     \u001b[0mUs\u001b[0m\u001b[1;33m.\u001b[0m\u001b[0mappend\u001b[0m\u001b[1;33m(\u001b[0m\u001b[0mU\u001b[0m\u001b[1;33m)\u001b[0m\u001b[1;33m\u001b[0m\u001b[1;33m\u001b[0m\u001b[0m\n\u001b[0;32m     26\u001b[0m \u001b[1;33m\u001b[0m\u001b[0m\n",
      "\u001b[1;32m<ipython-input-3-957cbcc0d4ca>\u001b[0m in \u001b[0;36mtoInt\u001b[1;34m(IN)\u001b[0m\n\u001b[0;32m     48\u001b[0m \u001b[1;33m\u001b[0m\u001b[0m\n\u001b[0;32m     49\u001b[0m \u001b[1;32mdef\u001b[0m \u001b[0mtoInt\u001b[0m\u001b[1;33m(\u001b[0m\u001b[0mIN\u001b[0m\u001b[1;33m)\u001b[0m\u001b[1;33m:\u001b[0m\u001b[1;33m\u001b[0m\u001b[1;33m\u001b[0m\u001b[0m\n\u001b[1;32m---> 50\u001b[1;33m     \u001b[0mIN_str\u001b[0m \u001b[1;33m=\u001b[0m \u001b[1;34m''\u001b[0m\u001b[1;33m.\u001b[0m\u001b[0mjoin\u001b[0m\u001b[1;33m(\u001b[0m\u001b[0mIN\u001b[0m\u001b[1;33m)\u001b[0m\u001b[1;33m\u001b[0m\u001b[1;33m\u001b[0m\u001b[0m\n\u001b[0m\u001b[0;32m     51\u001b[0m     \u001b[0mOUT\u001b[0m \u001b[1;33m=\u001b[0m \u001b[0mint\u001b[0m\u001b[1;33m(\u001b[0m\u001b[0mIN_str\u001b[0m\u001b[1;33m,\u001b[0m \u001b[1;36m2\u001b[0m\u001b[1;33m)\u001b[0m\u001b[1;33m\u001b[0m\u001b[1;33m\u001b[0m\u001b[0m\n\u001b[0;32m     52\u001b[0m     \u001b[1;32mreturn\u001b[0m \u001b[0mOUT\u001b[0m\u001b[1;33m\u001b[0m\u001b[1;33m\u001b[0m\u001b[0m\n",
      "\u001b[1;31mTypeError\u001b[0m: sequence item 0: expected str instance, numpy.bool_ found"
     ]
    }
   ],
   "source": [
    "np.random.seed(10)\n",
    "\n",
    "for i in range(10000):\n",
    "    V = np.random.rand(1)\n",
    "    D = np.sin(2 * np.pi * V)\n",
    "    # 順伝搬\n",
    "    V_bin = toBin(V)\n",
    "    U, H = forward(V_bin)\n",
    "\n",
    "    # 誤差逆伝搬\n",
    "    D_bin = toBin(D)\n",
    "    D_bin = softmax(D_bin)\n",
    "    backward(V_bin, H, U, D_bin)\n",
    "\n",
    "    \n",
    "Vs = np.arange(epoch) / epoch  \n",
    "Us = []\n",
    "\n",
    "for V in Vs:\n",
    "    # 順伝搬\n",
    "    V_bin = toBin(V)\n",
    "    U, H = forward(V_bin)\n",
    "    U = U > 1/8\n",
    "    U = toInt(U)\n",
    "    Us.append(U)\n",
    "    \n",
    "\n",
    "print(Vs)\n",
    "print(Us)\n",
    "    \n",
    "# plt.scatter(Vs, Us)    \n",
    "# plt.show()"
   ]
  }
 ],
 "metadata": {
  "kernelspec": {
   "display_name": "Python 3",
   "language": "python",
   "name": "python3"
  },
  "language_info": {
   "codemirror_mode": {
    "name": "ipython",
    "version": 3
   },
   "file_extension": ".py",
   "mimetype": "text/x-python",
   "name": "python",
   "nbconvert_exporter": "python",
   "pygments_lexer": "ipython3",
   "version": "3.8.5"
  }
 },
 "nbformat": 4,
 "nbformat_minor": 5
}

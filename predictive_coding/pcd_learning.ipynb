{
 "cells": [
  {
   "cell_type": "code",
   "execution_count": 1,
   "metadata": {},
   "outputs": [],
   "source": [
    "import numpy as np\n",
    "from scipy.stats import norm \n",
    "import matplotlib.pyplot as plt\n",
    "import matplotlib.animation as animation"
   ]
  },
  {
   "cell_type": "code",
   "execution_count": 2,
   "metadata": {},
   "outputs": [
    {
     "data": {
      "image/png": "[encoded data removed]",
      "text/plain": [
       "<Figure size 432x288 with 1 Axes>"
      ]
     },
     "metadata": {
      "needs_background": "light"
     },
     "output_type": "display_data"
    }
   ],
   "source": [
    "u = 2\n",
    "sigma_u = 1\n",
    "vp = 1\n",
    "sigma_p = 1\n",
    "v = np.arange(0.01, 5, 0.01)\n",
    "infer_epoch = 1000\n",
    "\n",
    "dt = 0.01\n",
    "\n",
    "PUV = norm.pdf(u, v**2, sigma_u)\n",
    "PV = norm.pdf(v, vp, sigma_p)\n",
    "numer = PUV * PV\n",
    "denom = np.sum(numer * dt) # 分母＝分子をvで積分\n",
    "PVU = numer / denom\n",
    "\n",
    "fig = plt.figure()\n",
    "plt.plot(v, PV, color='r', label='p(v)')\n",
    "plt.plot(v, PUV, color='g', label='p(u|v)')\n",
    "plt.plot(v, PVU, color='b', label='p(v|u)')\n",
    "plt.vlines(np.argmax(PVU)/100, -0.05, 1.4, color='#7d7d7d', linestyle='dotted')\n",
    "plt.xlabel('v')\n",
    "plt.legend()\n",
    "plt.ylim(0, 1.4)\n",
    "plt.annotate(np.argmax(PVU)/100, (np.argmax(PVU)/100, -0), (1.5, -0.2), arrowprops=dict(arrowstyle=\"->\"), fontweight=1000)\n",
    "plt.grid()\n",
    "plt.show()\n",
    "\n",
    "# fig.savefig(\"img1.jpg\", dpi=200)"
   ]
  },
  {
   "cell_type": "code",
   "execution_count": 3,
   "metadata": {},
   "outputs": [
    {
     "ename": "NameError",
     "evalue": "name 'vp_1' is not defined",
     "output_type": "error",
     "traceback": [
      "\u001b[1;31m---------------------------------------------------------------------------\u001b[0m",
      "\u001b[1;31mNameError\u001b[0m                                 Traceback (most recent call last)",
      "\u001b[1;32m<ipython-input-3-ef2fc0bb57ff>\u001b[0m in \u001b[0;36m<module>\u001b[1;34m\u001b[0m\n\u001b[0;32m      1\u001b[0m \u001b[1;32mfor\u001b[0m \u001b[0mi\u001b[0m \u001b[1;32min\u001b[0m \u001b[0mrange\u001b[0m\u001b[1;33m(\u001b[0m\u001b[1;36m50\u001b[0m\u001b[1;33m)\u001b[0m\u001b[1;33m:\u001b[0m\u001b[1;33m\u001b[0m\u001b[1;33m\u001b[0m\u001b[0m\n\u001b[0;32m      2\u001b[0m     \u001b[0mphi_1\u001b[0m \u001b[1;33m=\u001b[0m \u001b[0mlist\u001b[0m\u001b[1;33m(\u001b[0m\u001b[0mrange\u001b[0m\u001b[1;33m(\u001b[0m\u001b[0minfer_epoch\u001b[0m\u001b[1;33m)\u001b[0m\u001b[1;33m)\u001b[0m\u001b[1;33m\u001b[0m\u001b[1;33m\u001b[0m\u001b[0m\n\u001b[1;32m----> 3\u001b[1;33m     \u001b[0mphi_1\u001b[0m\u001b[1;33m[\u001b[0m\u001b[1;36m0\u001b[0m\u001b[1;33m]\u001b[0m \u001b[1;33m=\u001b[0m \u001b[0mvp_1\u001b[0m\u001b[1;33m\u001b[0m\u001b[1;33m\u001b[0m\u001b[0m\n\u001b[0m\u001b[0;32m      4\u001b[0m     \u001b[0mep_1\u001b[0m \u001b[1;33m=\u001b[0m \u001b[0mlist\u001b[0m\u001b[1;33m(\u001b[0m\u001b[0mrange\u001b[0m\u001b[1;33m(\u001b[0m\u001b[0minfer_epoch\u001b[0m\u001b[1;33m)\u001b[0m\u001b[1;33m)\u001b[0m\u001b[1;33m\u001b[0m\u001b[1;33m\u001b[0m\u001b[0m\n\u001b[0;32m      5\u001b[0m     \u001b[0mep\u001b[0m\u001b[1;33m[\u001b[0m\u001b[1;36m0\u001b[0m\u001b[1;33m]\u001b[0m \u001b[1;33m=\u001b[0m \u001b[1;33m(\u001b[0m\u001b[0mphi\u001b[0m\u001b[1;33m[\u001b[0m\u001b[1;36m0\u001b[0m\u001b[1;33m]\u001b[0m \u001b[1;33m-\u001b[0m \u001b[0mvp\u001b[0m\u001b[1;33m)\u001b[0m \u001b[1;33m/\u001b[0m \u001b[0msigma_p\u001b[0m\u001b[1;33m\u001b[0m\u001b[1;33m\u001b[0m\u001b[0m\n",
      "\u001b[1;31mNameError\u001b[0m: name 'vp_1' is not defined"
     ]
    }
   ],
   "source": [
    "for i in range(50):\n",
    "    phi_1 = list(range(infer_epoch))\n",
    "    phi_1[0] = vp_1\n",
    "    ep_1 = list(range(infer_epoch))\n",
    "    ep[0] = (phi[0] - vp) / sigma_p\n",
    "    eu = list(range(infer_epoch))\n",
    "    eu[0] = (u - (phi_1[0] + phi_2[0])) / sigma_u\n",
    "    # 推測\n",
    "    for j in range(1, infer_epoch):\n",
    "        phi[j] = phi[j-1] + dt * (-ep[j-1] + eu[j-1] * (2 * phi[j-1]))\n",
    "        ep[j] = ep[j-1] + dt * (phi[j-1] - vp - sigma_p * ep[j-1])\n",
    "        eu[j] = eu[j-1] + dt * (u - phi[j-1] ** 2 - sigma_u * eu[j-1])\n",
    "\n",
    "    phi[0] = phi[-1]\n",
    "    ep[0] = ep[-1]\n",
    "    eu[0] = eu[-1]\n",
    "\n",
    "    # 学習\n",
    "    vp = vp + ep[-1] * dt\n",
    "    sigma_p = max(sigma_p + 1/2 * (ep[-1]**2 - 1/sigma_p) * dt, 1)\n",
    "    sigma_u = max(sigma_u + 1/2 * (eu[-1]**2 - 1/sigma_u) * dt, 1) \n",
    "\n"
   ]
  },
  {
   "cell_type": "markdown",
   "metadata": {},
   "source": [
    "import glob\n",
    "import cv2"
   ]
  },
  {
   "cell_type": "markdown",
   "metadata": {},
   "source": [
    "img_array = []\n",
    "for filename in sorted(glob.glob(\"fep/img2/*.jpg\")):\n",
    "    img = cv2.imread(filename)\n",
    "    height, width, layers = img.shape\n",
    "    size = (width, height)\n",
    "    img_array.append(img)\n",
    "\n",
    "name = 'project.mp4'\n",
    "out = cv2.VideoWriter(name, cv2.VideoWriter_fourcc(*'MP4V'), 5.0, size)\n",
    "\n",
    "for i in range(len(img_array)):\n",
    "    out.write(img_array[i])\n",
    "out.release()"
   ]
  }
 ],
 "metadata": {
  "kernelspec": {
   "display_name": "Python 3",
   "language": "python",
   "name": "python3"
  },
  "language_info": {
   "codemirror_mode": {
    "name": "ipython",
    "version": 3
   },
   "file_extension": ".py",
   "mimetype": "text/x-python",
   "name": "python",
   "nbconvert_exporter": "python",
   "pygments_lexer": "ipython3",
   "version": "3.8.5"
  }
 },
 "nbformat": 4,
 "nbformat_minor": 5
}

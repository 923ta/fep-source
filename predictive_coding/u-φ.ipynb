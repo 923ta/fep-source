{
 "cells": [
  {
   "cell_type": "code",
   "execution_count": 1,
   "id": "2e5f5cb6",
   "metadata": {},
   "outputs": [],
   "source": [
    "import numpy as np\n",
    "from scipy.stats import norm \n",
    "import matplotlib.pyplot as plt\n",
    "import matplotlib.animation as animation"
   ]
  },
  {
   "cell_type": "code",
   "execution_count": 2,
   "id": "bacf77bc",
   "metadata": {},
   "outputs": [],
   "source": [
    "Us = list(range(30))\n",
    "sigma_u = 1\n",
    "vp = 4\n",
    "sigma_p = 1\n",
    "v = np.arange(0.01, 5, 0.01)\n",
    "\n",
    "dt = 0.01\n",
    "\n",
    "PHIs = []"
   ]
  },
  {
   "cell_type": "code",
   "execution_count": null,
   "id": "80817bac",
   "metadata": {},
   "outputs": [],
   "source": [
    "for u in Us:\n",
    "    phi = list(range(500))\n",
    "    phi[0] = vp\n",
    "    ep = list(range(500))\n",
    "    ep[0] = 0\n",
    "    eu = list(range(500))\n",
    "    eu[0] = (u - phi[0]**2) / sigma_u\n",
    "    \n",
    "    for j in range(1, 500):\n",
    "            phi[j] = phi[j-1] + dt * (-ep[j-1] + eu[j-1] * (2 * phi[j-1]))\n",
    "            ep[j] = ep[j-1] + dt * (phi[j-1] - vp - sigma_p * ep[j-1])\n",
    "            eu[j] = eu[j-1] + dt * (u - phi[j-1] ** 2 - sigma_u * eu[j-1])\n",
    "            \n",
    "    PHIs.append(phi[-1])\n",
    "\n",
    "fig = plt.figure()\n",
    "plt.scatter(Us, PHIs)\n",
    "plt.xlabel(\"u\")\n",
    "plt.ylabel(\"φ\")\n",
    "plt.plot()\n",
    "plt.grid()\n",
    "# fig.savefig(\"before.jpg\")\n",
    "plt.show()"
   ]
  },
  {
   "cell_type": "code",
   "execution_count": 4,
   "id": "73457889",
   "metadata": {},
   "outputs": [],
   "source": [
    "Us = list(range(30))\n",
    "sigma_u = 1\n",
    "vp = 1\n",
    "sigma_p = 1\n",
    "v = np.arange(0.01, 5, 0.01)\n",
    "\n",
    "dt = 0.01\n",
    "\n",
    "PHIs = []"
   ]
  },
  {
   "cell_type": "code",
   "execution_count": 5,
   "id": "aeded6f4",
   "metadata": {},
   "outputs": [
    {
     "data": {
      "image/png": "[encoded data removed]",
      "text/plain": [
       "<Figure size 432x288 with 1 Axes>"
      ]
     },
     "metadata": {
      "needs_background": "light"
     },
     "output_type": "display_data"
    }
   ],
   "source": [
    "for u in Us:    \n",
    "    phi = list(range(500))\n",
    "    phi[0] = vp\n",
    "    ep = list(range(500))\n",
    "    ep[0] = 0\n",
    "    eu = list(range(500))\n",
    "    eu[0] = (u - phi[0]**2) / sigma_u\n",
    "    \n",
    "    for i in range(1, 10):\n",
    "            # 推測\n",
    "            for j in range(1, 500):\n",
    "                phi[j] = phi[j-1] + dt * (-ep[j-1] + eu[j-1] * (2 * phi[j-1]))\n",
    "                ep[j] = ep[j-1] + dt * (phi[j-1] - vp - sigma_p * ep[j-1])\n",
    "                eu[j] = eu[j-1] + dt * (u - phi[j-1] ** 2 - sigma_u * eu[j-1])\n",
    "\n",
    "            phi[0] = phi[-1]\n",
    "            ep[0] = ep[-1]\n",
    "            eu[0] = eu[-1]\n",
    "\n",
    "            # 学習\n",
    "            vp = vp + ep[-1] * dt\n",
    "            sigma_p = max(sigma_p + 1/2 * (ep[-1]**2 - 1/sigma_p), 1)\n",
    "            sigma_u = max(sigma_u + 1/2 * (eu[-1]**2 - 1/sigma_u), 1) \n",
    "        \n",
    "    PHIs.append(phi[-1])\n",
    "    \n",
    "fig = plt.figure()\n",
    "plt.scatter(Us, PHIs, color=\"r\")\n",
    "plt.xlabel(\"u\")\n",
    "plt.ylabel(\"φ\")\n",
    "plt.plot()\n",
    "plt.grid()\n",
    "# fig.savefig(\"after2.jpg\")\n",
    "plt.show()\n"
   ]
  }
 ],
 "metadata": {
  "kernelspec": {
   "display_name": "Python 3 (ipykernel)",
   "language": "python",
   "name": "python3"
  },
  "language_info": {
   "codemirror_mode": {
    "name": "ipython",
    "version": 3
   },
   "file_extension": ".py",
   "mimetype": "text/x-python",
   "name": "python",
   "nbconvert_exporter": "python",
   "pygments_lexer": "ipython3",
   "version": "3.8.12"
  }
 },
 "nbformat": 4,
 "nbformat_minor": 5
}

{
 "cells": [
  {
   "cell_type": "code",
   "execution_count": null,
   "id": "9626ba55",
   "metadata": {},
   "outputs": [],
   "source": [
    "import random\n",
    "import numpy as np\n",
    "import numpy.random as rd\n",
    "from scipy.stats import norm \n",
    "import matplotlib.pyplot as plt"
   ]
  },
  {
   "cell_type": "code",
   "execution_count": null,
   "id": "19157df5",
   "metadata": {},
   "outputs": [],
   "source": [
    "sigma_u = 1\n",
    "vp_1 = 2\n",
    "vp_2 = 4\n",
    "sigma_p_1 = 1\n",
    "sigma_p_2 = 1\n",
    "dt = 0.03"
   ]
  },
  {
   "cell_type": "code",
   "execution_count": null,
   "id": "027070c3",
   "metadata": {},
   "outputs": [],
   "source": [
    "v_1 = np.random.normal(vp_1, np.sqrt(sigma_p_1), 600).tolist()\n",
    "v_2 = np.random.normal(vp_2, np.sqrt(sigma_p_2), 600).tolist()\n",
    "# v_1 = rd.poisson(vp_1, 300)\n",
    "# v_2 = rd.poisson(vp_2, 300)"
   ]
  },
  {
   "cell_type": "code",
   "execution_count": null,
   "id": "522ee316",
   "metadata": {},
   "outputs": [],
   "source": [
    "error_u = []\n",
    "error_v = []"
   ]
  },
  {
   "cell_type": "code",
   "execution_count": null,
   "id": "f68d01cf",
   "metadata": {},
   "outputs": [],
   "source": [
    "for i in range(600):\n",
    "    u = v_1[i] + v_2[i]\n",
    "    phi_1 = list(range(500))\n",
    "    phi_1[0] = vp_1\n",
    "    phi_2 = list(range(500))\n",
    "    phi_2[0] = vp_2\n",
    "    ep_1 = list(range(500))\n",
    "    ep_1[0] = 0\n",
    "    ep_2 = list(range(500))\n",
    "    ep_2[0] = 0\n",
    "    eu = list(range(500))\n",
    "    eu[0] = (u - (phi_1[0] + phi_2[0])) / sigma_u\n",
    "    \n",
    "    # 推測\n",
    "    for j in range(1, 500):\n",
    "        phi_1[j] = phi_1[j-1] + dt * (-ep_1[j-1] + eu[j-1] * (1 + phi_2[j-1]))\n",
    "        phi_2[j] = phi_2[j-1] + dt * (-ep_2[j-1] + eu[j-1] * (1 + phi_1[j-1]))\n",
    "#         phi_1[j] = max(phi_1[j-1] + dt * (-ep_1[j-1] + eu[j-1] * (1 + phi_2[j-1])), 0)\n",
    "#         phi_2[j] = max(phi_2[j-1] + dt * (-ep_2[j-1] + eu[j-1] * (1 + phi_1[j-1])), 0)\n",
    "        ep_1[j] = ep_1[j-1] + dt * (phi_1[j-1] - vp_1 - sigma_p_1 * ep_1[j-1])\n",
    "        ep_2[j] = ep_2[j-1] + dt * (phi_2[j-1] - vp_2 - sigma_p_2 * ep_2[j-1])\n",
    "        eu[j] = eu[j-1] + dt * (u - phi_1[j-1] - phi_2[j-1] - sigma_u * eu[j-1])\n",
    "        \n",
    "    error_u.append(u - (phi_1[-1] + phi_2[-1]))\n",
    "    error_v.append(1/2 * ((v_1[i] - phi_1[-1]) ** 2 + (v_2[i] - phi_2[-1]) ** 2))\n",
    "#     error_v.append(v_1[i] - phi_1[-1])\n",
    "\n",
    "    # 学習\n",
    "    vp_1 = vp_1 + ep_1[-1] * dt\n",
    "    vp_2 = vp_2 + ep_2[-1] * dt\n",
    "    sigma_p_1 = max(sigma_p_1 + 1/2 * (ep_1[-1]**2 - 1/sigma_p_1), 1)\n",
    "    sigma_p_2 = max(sigma_p_2 + 1/2 * (ep_2[-1]**2 - 1/sigma_p_2), 1)\n",
    "    sigma_u = max(sigma_u + 1/2 * (eu[-1]**2 - 1/sigma_u), 1) \n",
    "\n",
    "plt.scatter(range(500), phi_1)\n",
    "plt.xlabel(\"epoch\")\n",
    "plt.ylabel(\"φ\")\n",
    "plt.plot()\n",
    "plt.grid()\n",
    "plt.show()\n",
    "\n",
    "plt.scatter(range(500), phi_2, color='r')\n",
    "plt.xlabel(\"epoch\")\n",
    "plt.ylabel(\"φ\")\n",
    "plt.plot()\n",
    "plt.grid()\n",
    "plt.show()\n",
    "    \n",
    "print(\"u:\", u)\n",
    "print(\"v_1:\", v_1[-1])\n",
    "print(\"v_2:\", v_2[-1])\n",
    "print(\"g(φ1,φ2):\", phi_1[-1]+phi_2[-1])\n",
    "print(\"phi_1:\", phi_1[-1])\n",
    "print(\"phi_2:\", phi_2[-1])\n",
    "print(\"sigma_p_1:\", sigma_p_1)\n",
    "print(\"sigma_p_2:\", sigma_p_2)\n",
    "print(\"sigma_u:\" , sigma_u)\n",
    "\n",
    "plt.scatter(range(600), error_u)\n",
    "plt.xlabel(\"epoch\")\n",
    "plt.ylabel(\"u-g()\")\n",
    "plt.plot()\n",
    "plt.grid()\n",
    "plt.show()\n",
    "\n",
    "plt.scatter(range(600), error_v, color=\"r\")\n",
    "plt.xlabel(\"epoch\")\n",
    "plt.ylabel(\"1/2{(φ1-v1)^2+(φ2-v2)^2}\")\n",
    "plt.plot()\n",
    "plt.grid()\n",
    "plt.show()"
   ]
  },
  {
   "cell_type": "code",
   "execution_count": null,
   "id": "296da45f",
   "metadata": {},
   "outputs": [],
   "source": []
  },
  {
   "cell_type": "code",
   "execution_count": null,
   "id": "a3cf7781",
   "metadata": {},
   "outputs": [],
   "source": []
  }
 ],
 "metadata": {
  "kernelspec": {
   "display_name": "Python 3 (ipykernel)",
   "language": "python",
   "name": "python3"
  },
  "language_info": {
   "codemirror_mode": {
    "name": "ipython",
    "version": 3
   },
   "file_extension": ".py",
   "mimetype": "text/x-python",
   "name": "python",
   "nbconvert_exporter": "python",
   "pygments_lexer": "ipython3",
   "version": "3.8.12"
  }
 },
 "nbformat": 4,
 "nbformat_minor": 5
}

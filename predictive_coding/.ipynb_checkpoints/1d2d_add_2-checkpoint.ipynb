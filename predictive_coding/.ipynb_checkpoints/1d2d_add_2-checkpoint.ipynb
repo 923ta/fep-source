{
 "cells": [
  {
   "cell_type": "code",
   "execution_count": 1,
   "id": "249cfac1",
   "metadata": {},
   "outputs": [],
   "source": [
    "import random\n",
    "import numpy as np\n",
    "from scipy.stats import norm \n",
    "import matplotlib.pyplot as plt"
   ]
  },
  {
   "cell_type": "code",
   "execution_count": 2,
   "id": "4ec89add",
   "metadata": {},
   "outputs": [],
   "source": [
    "sigma_u = 1\n",
    "vp_1 = 2\n",
    "vp_2 = 3\n",
    "sigma_p_1 = 1\n",
    "sigma_p_2 = 1\n",
    "dt = 0.01\n",
    "\n",
    "PHI_1s = []"
   ]
  },
  {
   "cell_type": "code",
   "execution_count": 3,
   "id": "431b1bd5",
   "metadata": {},
   "outputs": [],
   "source": [
    "v_1 = [random.randint(0, 5) for i in range(100)]\n",
    "v_2 = [random.randint(0, 5) for i in range(100)]"
   ]
  },
  {
   "cell_type": "code",
   "execution_count": 4,
   "id": "a854888b",
   "metadata": {},
   "outputs": [],
   "source": [
    "phi_1 = list(range(1000))\n",
    "phi_1[0] = vp_1\n",
    "phi_2 = list(range(1000))\n",
    "phi_2[0] = vp_2\n",
    "ep_1 = list(range(1000))\n",
    "ep_1[0] = 0\n",
    "ep_2 = list(range(1000))\n",
    "ep_2[0] = 0\n",
    "eu = list(range(1000))\n",
    "eu[0] = 0"
   ]
  },
  {
   "cell_type": "markdown",
   "id": "f3e046ed",
   "metadata": {},
   "source": [
    "u = v_1[0] + v_2[0]\n",
    "for j in range(1, 1000):\n",
    "        phi_1[j] = max(phi_1[j-1] + dt * (-ep_1[j-1] + eu[j-1] * (1 + phi_2[j-1])), 0)\n",
    "        phi_2[j] = max(phi_2[j-1] + dt * (-ep_2[j-1] + eu[j-1] * (1 + phi_1[j-1])), 0)\n",
    "        ep_1[j] = ep_1[j-1] + dt * (phi_1[j-1] - vp_1 - sigma_p_1 * ep_1[j-1])\n",
    "        ep_2[j] = ep_2[j-1] + dt * (phi_2[j-1] - vp_2 - sigma_p_2 * ep_2[j-1])\n",
    "        eu[j] = eu[j-1] + dt * (u - phi_1[j-1] - phi_2[j-1] - sigma_u * eu[j-1])\n",
    "        \n",
    "plt.scatter(range(1000), phi_1)\n",
    "plt.xlabel(\"epoch\")\n",
    "plt.ylabel(\"φ\")\n",
    "plt.plot()\n",
    "plt.grid()\n",
    "plt.show()\n",
    "\n",
    "print(\"u:\", u)\n",
    "print(\"v_1:\", v_1[0])\n",
    "print(\"v_2:\", v_2[0])"
   ]
  },
  {
   "cell_type": "code",
   "execution_count": 5,
   "id": "4d670506",
   "metadata": {},
   "outputs": [
    {
     "data": {
      "image/png": "[encoded data removed]",
      "text/plain": [
       "<Figure size 432x288 with 1 Axes>"
      ]
     },
     "metadata": {
      "needs_background": "light"
     },
     "output_type": "display_data"
    },
    {
     "data": {
      "image/png": "[encoded data removed]",
      "text/plain": [
       "<Figure size 432x288 with 1 Axes>"
      ]
     },
     "metadata": {
      "needs_background": "light"
     },
     "output_type": "display_data"
    },
    {
     "name": "stdout",
     "output_type": "stream",
     "text": [
      "u: 5\n",
      "v_1: 3\n",
      "v_2: 2\n",
      "phi_1: 1.9430448601150367\n",
      "phi_2: 3.0506340631414375\n",
      "sigma_p_1: 1\n",
      "sigma_p_2: 1\n",
      "sigma_u: 1\n"
     ]
    }
   ],
   "source": [
    "for i in range(1, 100):\n",
    "    u = v_1[i] + v_2[i]\n",
    "    # 推測\n",
    "    for j in range(1, 1000):\n",
    "        phi_1[j] = max(phi_1[j-1] + dt * (-ep_1[j-1] + eu[j-1] * (1 + phi_2[j-1])), 0)\n",
    "        phi_2[j] = max(phi_2[j-1] + dt * (-ep_2[j-1] + eu[j-1] * (1 + phi_1[j-1])), 0)\n",
    "        ep_1[j] = ep_1[j-1] + dt * (phi_1[j-1] - vp_1 - sigma_p_1 * ep_1[j-1])\n",
    "        ep_2[j] = ep_2[j-1] + dt * (phi_2[j-1] - vp_2 - sigma_p_2 * ep_2[j-1])\n",
    "        eu[j] = eu[j-1] + dt * (u - phi_1[j-1] - phi_2[j-1] - sigma_u * eu[j-1])\n",
    "        \n",
    "#     plt.scatter(range(1000), phi_1)\n",
    "#     plt.xlabel(\"epoch\")\n",
    "#     plt.ylabel(\"φ\")\n",
    "#     plt.plot()\n",
    "#     plt.grid()\n",
    "#     plt.show()\n",
    "\n",
    "    phi_1[0] = phi_1[-1]\n",
    "    phi_2[0] = phi_2[-1]\n",
    "    ep_1[0] = ep_1[-1]\n",
    "    ep_2[0] = ep_2[-1]\n",
    "    eu[0] = eu[-1]\n",
    "\n",
    "    # 学習\n",
    "    vp_1 = vp_1 + ep_1[-1] * dt\n",
    "    vp_2 = vp_2 + ep_2[-1] * dt\n",
    "    sigma_p_1 = max(sigma_p_1 + 1/2 * (ep_1[-1]**2 - 1/sigma_p_1), 1)\n",
    "    sigma_p_2 = max(sigma_p_2 + 1/2 * (ep_2[-1]**2 - 1/sigma_p_2), 1)\n",
    "    sigma_u = max(sigma_u + 1/2 * (eu[-1]**2 - 1/sigma_u), 1) \n",
    "    \n",
    "#     print(i, \"回目\")\n",
    "#     print(\"u:\", u)\n",
    "#     print(\"v_1:\", v_1[i])\n",
    "#     print(\"v_2:\", v_2[i])\n",
    "#     print(\"phi_1:\", phi_1[-1])\n",
    "#     print(\"phi_2:\", phi_2[-1])\n",
    "#     print(\"sigma_p_1:\", sigma_p_1)\n",
    "#     print(\"sigma_p_2:\", sigma_p_2)\n",
    "#     print(\"sigma_u:\" , sigma_u)\n",
    "plt.scatter(range(1000), phi_1)\n",
    "plt.xlabel(\"epoch\")\n",
    "plt.ylabel(\"φ\")\n",
    "plt.plot()\n",
    "plt.grid()\n",
    "plt.show()\n",
    "\n",
    "plt.scatter(range(1000), phi_2, color='r')\n",
    "plt.xlabel(\"epoch\")\n",
    "plt.ylabel(\"φ\")\n",
    "plt.plot()\n",
    "plt.grid()\n",
    "plt.show()\n",
    "    \n",
    "print(\"u:\", u)\n",
    "print(\"v_1:\", v_1[-1])\n",
    "print(\"v_2:\", v_2[-1])\n",
    "print(\"phi_1:\", phi_1[-1])\n",
    "print(\"phi_2:\", phi_2[-1])\n",
    "print(\"sigma_p_1:\", sigma_p_1)\n",
    "print(\"sigma_p_2:\", sigma_p_2)\n",
    "print(\"sigma_u:\" , sigma_u)"
   ]
  }
 ],
 "metadata": {
  "kernelspec": {
   "display_name": "Python 3 (ipykernel)",
   "language": "python",
   "name": "python3"
  },
  "language_info": {
   "codemirror_mode": {
    "name": "ipython",
    "version": 3
   },
   "file_extension": ".py",
   "mimetype": "text/x-python",
   "name": "python",
   "nbconvert_exporter": "python",
   "pygments_lexer": "ipython3",
   "version": "3.8.12"
  }
 },
 "nbformat": 4,
 "nbformat_minor": 5
}

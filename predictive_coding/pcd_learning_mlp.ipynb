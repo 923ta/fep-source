{
 "cells": [
  {
   "cell_type": "code",
   "execution_count": 1,
   "id": "7ba4d98e",
   "metadata": {},
   "outputs": [],
   "source": [
    "import numpy as np\n",
    "from scipy.stats import norm \n",
    "import matplotlib.pyplot as plt\n",
    "import matplotlib.animation as animation"
   ]
  },
  {
   "cell_type": "code",
   "execution_count": 2,
   "id": "b6811c11",
   "metadata": {},
   "outputs": [],
   "source": [
    "u = 2\n",
    "sigma_u = 1\n",
    "vp = 1\n",
    "sigma_p = 1\n",
    "v = np.arange(0.01, 5, 0.01)\n",
    "infer_epoch = 1000\n",
    "dt = 0.01"
   ]
  },
  {
   "cell_type": "code",
   "execution_count": 3,
   "id": "61d4310f",
   "metadata": {},
   "outputs": [
    {
     "ename": "NameError",
     "evalue": "name 'vp_1' is not defined",
     "output_type": "error",
     "traceback": [
      "\u001b[0;31m---------------------------------------------------------------------------\u001b[0m",
      "\u001b[0;31mNameError\u001b[0m                                 Traceback (most recent call last)",
      "Input \u001b[0;32mIn [3]\u001b[0m, in \u001b[0;36m<cell line: 1>\u001b[0;34m()\u001b[0m\n\u001b[1;32m      1\u001b[0m \u001b[38;5;28;01mfor\u001b[39;00m i \u001b[38;5;129;01min\u001b[39;00m \u001b[38;5;28mrange\u001b[39m(\u001b[38;5;241m50\u001b[39m):\n\u001b[1;32m      2\u001b[0m     phi_1 \u001b[38;5;241m=\u001b[39m \u001b[38;5;28mlist\u001b[39m(\u001b[38;5;28mrange\u001b[39m(infer_epoch))\n\u001b[0;32m----> 3\u001b[0m     phi_1[\u001b[38;5;241m0\u001b[39m] \u001b[38;5;241m=\u001b[39m vp_1\n\u001b[1;32m      4\u001b[0m     ep_1 \u001b[38;5;241m=\u001b[39m \u001b[38;5;28mlist\u001b[39m(\u001b[38;5;28mrange\u001b[39m(infer_epoch))\n\u001b[1;32m      5\u001b[0m     ep[\u001b[38;5;241m0\u001b[39m] \u001b[38;5;241m=\u001b[39m (phi[\u001b[38;5;241m0\u001b[39m] \u001b[38;5;241m-\u001b[39m vp) \u001b[38;5;241m/\u001b[39m sigma_p\n",
      "\u001b[0;31mNameError\u001b[0m: name 'vp_1' is not defined"
     ]
    }
   ],
   "source": [
    "for i in range(50):\n",
    "    phi_1 = list(range(infer_epoch))\n",
    "    phi_1[0] = vp\n",
    "    ep_1 = list(range(infer_epoch))\n",
    "    ep[0] = (phi[0] - vp) / sigma_p\n",
    "    eu = list(range(infer_epoch))\n",
    "    eu[0] = (u - ()) / sigma_u\n",
    "    # 推測\n",
    "    for j in range(1, infer_epoch):\n",
    "        phi[j] = phi[j-1] + dt * (-ep[j-1] + eu[j-1] * (2 * phi[j-1]))\n",
    "        ep[j] = ep[j-1] + dt * (phi[j-1] - vp - sigma_p * ep[j-1])\n",
    "        eu[j] = eu[j-1] + dt * (u - phi[j-1] ** 2 - sigma_u * eu[j-1])\n",
    "\n",
    "    phi[0] = phi[-1]\n",
    "    ep[0] = ep[-1]\n",
    "    eu[0] = eu[-1]\n",
    "\n",
    "    # 学習\n",
    "    vp = vp + ep[-1] * dt\n",
    "    sigma_p = max(sigma_p + 1/2 * (ep[-1]**2 - 1/sigma_p) * dt, 1)\n",
    "    sigma_u = max(sigma_u + 1/2 * (eu[-1]**2 - 1/sigma_u) * dt, 1) \n",
    "\n",
    "#     PUV = norm.pdf(u, v**2, sigma_u)\n",
    "#     PV = norm.pdf(v, vp, sigma_p)\n",
    "#     numer = PUV * PV\n",
    "#     denom = np.sum(numer * dt) # 分母＝分子をvで積分\n",
    "#     PVU = numer / denom\n",
    "\n",
    "\n",
    "#     fig = plt.figure()\n",
    "#     plt.plot(v, PV, color='r', label='p(v)')\n",
    "#     plt.plot(v, PUV, color='g', label='p(u|v)')\n",
    "#     plt.plot(v, PVU, color='b', label='p(v|u)')\n",
    "#     plt.vlines(np.argmax(PV)/100, -0.05, 1.4, color='#7d7d7d', linestyle='dotted')\n",
    "#     plt.xlabel('v')\n",
    "#     plt.legend()\n",
    "#     plt.ylim(0, 1.4)\n",
    "#     plt.annotate(np.argmax(PV)/100, (np.argmax(PV)/100, -0), (3.5, 0.6), arrowprops=dict(arrowstyle=\"->\"), fontsize='xx-large')\n",
    "#     plt.grid()\n",
    "#     plt.show()\n",
    "    \n",
    "#     print(k, \"回目\")\n",
    "#     print(\"vp:\", vp)\n",
    "#     print(\"sigma_p:\", sigma_p)\n",
    "#     print(\"sigma_u:\" , sigma_u)\n",
    "    \n",
    "# ani = animation.ArtistAnimation(fig, ims, interval=100)\n",
    "# ani.save(\"output.gif\", writer=\"imagemagick\")"
   ]
  },
  {
   "cell_type": "markdown",
   "id": "24465e52",
   "metadata": {},
   "source": [
    "import glob\n",
    "import cv2"
   ]
  },
  {
   "cell_type": "markdown",
   "id": "22fbdcf0",
   "metadata": {},
   "source": [
    "img_array = []\n",
    "for filename in sorted(glob.glob(\"fep/img2/*.jpg\")):\n",
    "    img = cv2.imread(filename)\n",
    "    height, width, layers = img.shape\n",
    "    size = (width, height)\n",
    "    img_array.append(img)\n",
    "\n",
    "name = 'project.mp4'\n",
    "out = cv2.VideoWriter(name, cv2.VideoWriter_fourcc(*'MP4V'), 5.0, size)\n",
    "\n",
    "for i in range(len(img_array)):\n",
    "    out.write(img_array[i])\n",
    "out.release()"
   ]
  }
 ],
 "metadata": {
  "kernelspec": {
   "display_name": "Python 3 (ipykernel)",
   "language": "python",
   "name": "python3"
  },
  "language_info": {
   "codemirror_mode": {
    "name": "ipython",
    "version": 3
   },
   "file_extension": ".py",
   "mimetype": "text/x-python",
   "name": "python",
   "nbconvert_exporter": "python",
   "pygments_lexer": "ipython3",
   "version": "3.8.12"
  }
 },
 "nbformat": 4,
 "nbformat_minor": 5
}

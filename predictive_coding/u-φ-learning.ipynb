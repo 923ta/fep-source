{
 "cells": [
  {
   "cell_type": "code",
   "execution_count": 1,
   "id": "18ac8792",
   "metadata": {},
   "outputs": [],
   "source": [
    "import numpy as np\n",
    "from scipy.stats import norm \n",
    "import matplotlib.pyplot as plt\n",
    "import matplotlib.animation as animation"
   ]
  },
  {
   "cell_type": "code",
   "execution_count": 2,
   "id": "8f6d7e27",
   "metadata": {},
   "outputs": [],
   "source": [
    "Us = list(range(30))\n",
    "sigma_u = 1\n",
    "vp = 1\n",
    "sigma_p = 1\n",
    "v = np.arange(0.01, 5, 0.01)\n",
    "\n",
    "dt = 0.01\n",
    "\n",
    "PHIs = []"
   ]
  },
  {
   "cell_type": "code",
   "execution_count": 3,
   "id": "f1f9d1fd",
   "metadata": {},
   "outputs": [
    {
     "ename": "OverflowError",
     "evalue": "(34, 'Numerical result out of range')",
     "output_type": "error",
     "traceback": [
      "\u001b[0;31m---------------------------------------------------------------------------\u001b[0m",
      "\u001b[0;31mOverflowError\u001b[0m                             Traceback (most recent call last)",
      "Input \u001b[0;32mIn [3]\u001b[0m, in \u001b[0;36m<cell line: 1>\u001b[0;34m()\u001b[0m\n\u001b[1;32m     16\u001b[0m         phi[j] \u001b[38;5;241m=\u001b[39m phi[j\u001b[38;5;241m-\u001b[39m\u001b[38;5;241m1\u001b[39m] \u001b[38;5;241m+\u001b[39m dt \u001b[38;5;241m*\u001b[39m (\u001b[38;5;241m-\u001b[39mep[j\u001b[38;5;241m-\u001b[39m\u001b[38;5;241m1\u001b[39m] \u001b[38;5;241m+\u001b[39m eu[j\u001b[38;5;241m-\u001b[39m\u001b[38;5;241m1\u001b[39m] \u001b[38;5;241m*\u001b[39m (\u001b[38;5;241m2\u001b[39m \u001b[38;5;241m*\u001b[39m phi[j\u001b[38;5;241m-\u001b[39m\u001b[38;5;241m1\u001b[39m]))\n\u001b[1;32m     17\u001b[0m         ep[j] \u001b[38;5;241m=\u001b[39m ep[j\u001b[38;5;241m-\u001b[39m\u001b[38;5;241m1\u001b[39m] \u001b[38;5;241m+\u001b[39m dt \u001b[38;5;241m*\u001b[39m (phi[j\u001b[38;5;241m-\u001b[39m\u001b[38;5;241m1\u001b[39m] \u001b[38;5;241m-\u001b[39m vp \u001b[38;5;241m-\u001b[39m sigma_p \u001b[38;5;241m*\u001b[39m ep[j\u001b[38;5;241m-\u001b[39m\u001b[38;5;241m1\u001b[39m])\n\u001b[0;32m---> 18\u001b[0m         eu[j] \u001b[38;5;241m=\u001b[39m eu[j\u001b[38;5;241m-\u001b[39m\u001b[38;5;241m1\u001b[39m] \u001b[38;5;241m+\u001b[39m dt \u001b[38;5;241m*\u001b[39m (u \u001b[38;5;241m-\u001b[39m phi[j\u001b[38;5;241m-\u001b[39m\u001b[38;5;241m1\u001b[39m] \u001b[38;5;241m*\u001b[39m\u001b[38;5;241m*\u001b[39m \u001b[38;5;241m2\u001b[39m \u001b[38;5;241m-\u001b[39m sigma_u \u001b[38;5;241m*\u001b[39m eu[j\u001b[38;5;241m-\u001b[39m\u001b[38;5;241m1\u001b[39m])\n\u001b[1;32m     20\u001b[0m     PHIs\u001b[38;5;241m.\u001b[39mappend(phi[\u001b[38;5;241m-\u001b[39m\u001b[38;5;241m1\u001b[39m])\n\u001b[1;32m     22\u001b[0m plt\u001b[38;5;241m.\u001b[39mscatter(Us, PHIs, color\u001b[38;5;241m=\u001b[39m\u001b[38;5;124m\"\u001b[39m\u001b[38;5;124mr\u001b[39m\u001b[38;5;124m\"\u001b[39m)\n",
      "\u001b[0;31mOverflowError\u001b[0m: (34, 'Numerical result out of range')"
     ]
    }
   ],
   "source": [
    "for u in Us:    \n",
    "    phi = list(range(500))\n",
    "    phi[0] = vp\n",
    "    ep = list(range(500))\n",
    "    ep[0] = 0\n",
    "    eu = list(range(500))\n",
    "    eu[0] = (u - phi[0]**2) / sigma_u\n",
    "    \n",
    "    for i in range(1, 50):\n",
    "        # 学習\n",
    "        vp = vp + ep[-1] * dt\n",
    "        sigma_p = max(sigma_p + 1/2 * (ep[-1]**2 - 1/sigma_p), 1)\n",
    "        sigma_u = max(sigma_u + 1/2 * (eu[-1]**2 - 1/sigma_u), 1) \n",
    "            \n",
    "    for j in range(1, 500):\n",
    "        phi[j] = phi[j-1] + dt * (-ep[j-1] + eu[j-1] * (2 * phi[j-1]))\n",
    "        ep[j] = ep[j-1] + dt * (phi[j-1] - vp - sigma_p * ep[j-1])\n",
    "        eu[j] = eu[j-1] + dt * (u - phi[j-1] ** 2 - sigma_u * eu[j-1])\n",
    "        \n",
    "    PHIs.append(phi[-1])\n",
    "    \n",
    "plt.scatter(Us, PHIs, color=\"r\")\n",
    "plt.show()"
   ]
  }
 ],
 "metadata": {
  "kernelspec": {
   "display_name": "Python 3 (ipykernel)",
   "language": "python",
   "name": "python3"
  },
  "language_info": {
   "codemirror_mode": {
    "name": "ipython",
    "version": 3
   },
   "file_extension": ".py",
   "mimetype": "text/x-python",
   "name": "python",
   "nbconvert_exporter": "python",
   "pygments_lexer": "ipython3",
   "version": "3.8.12"
  }
 },
 "nbformat": 4,
 "nbformat_minor": 5
}

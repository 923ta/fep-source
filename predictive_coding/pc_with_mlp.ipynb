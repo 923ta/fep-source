{
 "cells": [
  {
   "cell_type": "code",
   "execution_count": null,
   "metadata": {},
   "outputs": [
    {
     "ename": "",
     "evalue": "",
     "output_type": "error",
     "traceback": [
      "\u001b[1;31mRunning cells with 'Python 3.8.2 64-bit' requires ipykernel package.\n",
      "Run the following command to install 'ipykernel' into the Python environment. \n",
      "Command: '/usr/bin/python3 -m pip install ipykernel -U --user --force-reinstall'"
     ]
    }
   ],
   "source": [
    "import numpy as np\n",
    "from scipy.stats import norm \n",
    "import matplotlib.pyplot as plt\n",
    "import matplotlib.animation as animation"
   ]
  },
  {
   "cell_type": "code",
   "execution_count": null,
   "metadata": {},
   "outputs": [],
   "source": [
    "sigma_u = 1\n",
    "vp = 5\n",
    "sigma_p = 1\n",
    "infer_time = 2000\n",
    "epoch = 100\n",
    "dt = 0.01\n",
    "phi = list(range(infer_time))\n",
    "ep = list(range(infer_time))\n",
    "eu = list(range(infer_time))"
   ]
  },
  {
   "cell_type": "code",
   "execution_count": null,
   "metadata": {},
   "outputs": [],
   "source": [
    "input_size, hidden_size, output_size = 2, 30, 1\n",
    "learning_rate = 0.01\n",
    "np.random.rand(0)\n",
    "W1 = np.random.randn(input_size, hidden_size)  / np.sqrt(input_size) * np.sqrt(2)\n",
    "W2 = np.random.randn(hidden_size, output_size)  / np.sqrt(hidden_size) * np.sqrt(2)\n",
    "\n",
    "# 順伝播\n",
    "def forward(phi):\n",
    "    global W1\n",
    "    global W2\n",
    "    H = np.tanh(np.dot(phi, W1))\n",
    "    U = np.dot(H, W2)\n",
    "    return U, H\n",
    "\n",
    "# 逆伝播\n",
    "def backward(phi, H, U, D): # 予測値、　隠れ層、　出力層、　教師\n",
    "    global W1\n",
    "    global W2\n",
    "    error_output = U - D # 出力層の誤差\n",
    "    error_hidden = (1 - H * H) * np.dot(W2, error_output) # 隠れ層の誤差 # 隠れ層が複数ノードだったらaxis=1\n",
    "    W1 -= np.dot(phi.reshape(len(phi), 1), error_hidden.reshape(1, len(error_hidden))) * learning_rate\n",
    "    W2 -= np.dot(H.reshape(len(H), 1), error_output.reshape(1, len(error_output))) * learning_rate\n",
    "\n",
    "def g(phi, u):\n",
    "    phi = np.array([phi])\n",
    "    phi = np.insert(phi, 0, 1)\n",
    "    # 順伝播＆逆伝播\n",
    "    U, H =forward(phi)\n",
    "    backward(phi, H, U, u) \n",
    "    return U, H\n",
    "\n",
    "def g_dash(H):    \n",
    "    tanh_dash = (1 - H * H)\n",
    "    U_dash = np.dot(tanh_dash * W1, W2)\n",
    "    return U_dash[1,0]"
   ]
  },
  {
   "cell_type": "code",
   "execution_count": null,
   "metadata": {},
   "outputs": [],
   "source": [
    "# v = [np.random.randint(1, 5) for i in range(epoch)]\n",
    "v = 3\n",
    "u = v * v"
   ]
  },
  {
   "cell_type": "code",
   "execution_count": null,
   "metadata": {},
   "outputs": [],
   "source": [
    "for i in range(epoch):\n",
    "#     u = v[i] * v[i]\n",
    "    phi[0] = vp\n",
    "    ep[0] = 0\n",
    "    eu[0] = 0\n",
    "\n",
    "    U, H = g(phi[0], u)\n",
    "    U_dash = g_dash(H)\n",
    "\n",
    "    # 推測\n",
    "    for j in range(1, infer_time):\n",
    "        phi[j] = phi[j-1] + dt * (-ep[j-1] + eu[j-1] * U_dash)\n",
    "        ep[j] = ep[j-1] + dt * (phi[j-1] - vp - sigma_p * ep[j-1])\n",
    "        eu[j] = eu[j-1] + dt * (u - U - sigma_u * eu[j-1])\n",
    "\n",
    "    # 注意\n",
    "    vp = vp + ep[-1] * dt\n",
    "    sigma_p = max(sigma_p + 1/2 * (ep[-1] ** 2 - 1/sigma_p) * dt, 1)\n",
    "    sigma_u = max(sigma_u + 1/2 * (eu[-1] ** 2 - 1/sigma_u) * dt, 1)\n",
    "\n",
    "    if i == 0 or i == epoch - 1:\n",
    "        plt.scatter(range(infer_time), phi)\n",
    "        plt.xlabel(\"epoch\")\n",
    "        plt.ylabel(\"φ\")\n",
    "        plt.plot()\n",
    "        plt.grid()\n",
    "        plt.show()\n",
    "\n",
    "#         print(\"v:\", v[i])\n",
    "        print(\"v:\", v)\n",
    "        print(\"phi:\", phi[-1])\n",
    "        print(\"u:\", u)\n",
    "        print(\"U:\", U)"
   ]
  }
 ],
 "metadata": {
  "interpreter": {
   "hash": "31f2aee4e71d21fbe5cf8b01ff0e069b9275f58929596ceb00d14d90e3e16cd6"
  },
  "kernelspec": {
   "display_name": "Python 3.8.2 64-bit",
   "language": "python",
   "name": "python3"
  },
  "language_info": {
   "name": "python",
   "version": "3.8.2"
  },
  "orig_nbformat": 4
 },
 "nbformat": 4,
 "nbformat_minor": 2
}

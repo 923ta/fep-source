{
 "cells": [
  {
   "cell_type": "code",
   "execution_count": 1,
   "id": "a0a26ee5",
   "metadata": {},
   "outputs": [],
   "source": [
    "import numpy as np\n",
    "import matplotlib.pyplot as plt"
   ]
  },
  {
   "cell_type": "code",
   "execution_count": 2,
   "id": "aae4ac11",
   "metadata": {},
   "outputs": [],
   "source": [
    "sigma_u = 1\n",
    "vp = 5\n",
    "sigma_p = 1\n",
    "infer_time = 2000\n",
    "epoch = 100\n",
    "dt = 0.01\n",
    "phi = list(range(infer_time))\n",
    "ep = list(range(infer_time))\n",
    "eu = list(range(infer_time))"
   ]
  },
  {
   "cell_type": "code",
   "execution_count": 3,
   "id": "36b6fb78",
   "metadata": {},
   "outputs": [],
   "source": [
    "input_size, hidden_size, output_size = 2, 30, 1\n",
    "learning_rate = 0.01\n",
    "np.random.rand(0)\n",
    "W1 = np.random.randn(input_size, hidden_size)  / np.sqrt(input_size) * np.sqrt(2)\n",
    "W2 = np.random.randn(hidden_size, output_size)  / np.sqrt(hidden_size) * np.sqrt(2)\n",
    "\n",
    "# 順伝播\n",
    "def forward(phi):\n",
    "    global W1\n",
    "    global W2\n",
    "    H = np.tanh(np.dot(phi, W1))\n",
    "    U = np.dot(H, W2)\n",
    "    return U, H\n",
    "\n",
    "# 逆伝播\n",
    "def backward(phi, H, U, D): # 予測値、　隠れ層、　出力層、　教師\n",
    "    global W1\n",
    "    global W2\n",
    "    error_output = U - D # 出力層の誤差\n",
    "    error_hidden = (1 - H * H) * np.dot(W2, error_output) # 隠れ層の誤差 # 隠れ層が複数ノードだったらaxis=1\n",
    "    W1 -= np.dot(phi.reshape(len(phi), 1), error_hidden.reshape(1, len(error_hidden))) * learning_rate\n",
    "    W2 -= np.dot(H.reshape(len(H), 1), error_output.reshape(1, len(error_output))) * learning_rate\n",
    "\n",
    "def g(phi, u):\n",
    "    phi = np.array([phi])\n",
    "    phi = np.insert(phi, 0, 1)\n",
    "    # 順伝播＆逆伝播\n",
    "    U, H =forward(phi)\n",
    "    backward(phi, H, U, u) \n",
    "    return U, H\n",
    "\n",
    "def g_dash(H):    \n",
    "    tanh_dash = (1 - H * H)\n",
    "    U_dash = np.dot(tanh_dash * W1, W2)\n",
    "    return U_dash[1,0]"
   ]
  },
  {
   "cell_type": "code",
   "execution_count": 4,
   "id": "50188d1f",
   "metadata": {},
   "outputs": [],
   "source": [
    "# v = [np.random.randint(1, 5) for i in range(epoch)]\n",
    "v = 3\n",
    "u = v * v"
   ]
  },
  {
   "cell_type": "code",
   "execution_count": 5,
   "id": "66253f6b",
   "metadata": {},
   "outputs": [
    {
     "name": "stderr",
     "output_type": "stream",
     "text": [
      "/opt/conda/lib/python3.8/site-packages/numpy/ma/core.py:2826: VisibleDeprecationWarning: Creating an ndarray from ragged nested sequences (which is a list-or-tuple of lists-or-tuples-or ndarrays with different lengths or shapes) is deprecated. If you meant to do this, you must specify 'dtype=object' when creating the ndarray.\n",
      "  _data = np.array(data, dtype=dtype, copy=copy,\n"
     ]
    },
    {
     "data": {
      "image/png": "[encoded data removed]",
      "text/plain": [
       "<Figure size 432x288 with 1 Axes>"
      ]
     },
     "metadata": {
      "needs_background": "light"
     },
     "output_type": "display_data"
    },
    {
     "name": "stdout",
     "output_type": "stream",
     "text": [
      "v: 3\n",
      "phi: [8.01213188]\n",
      "u: 9\n",
      "U: [0.95106655]\n"
     ]
    },
    {
     "data": {
      "image/png": "[encoded data removed]",
      "text/plain": [
       "<Figure size 432x288 with 1 Axes>"
      ]
     },
     "metadata": {
      "needs_background": "light"
     },
     "output_type": "display_data"
    },
    {
     "name": "stdout",
     "output_type": "stream",
     "text": [
      "v: 3\n",
      "phi: [5.06579128]\n",
      "u: 9\n",
      "U: [9.]\n"
     ]
    }
   ],
   "source": [
    "for i in range(epoch):\n",
    "#     u = v[i] * v[i]\n",
    "    phi[0] = vp\n",
    "    ep[0] = 0\n",
    "    eu[0] = 0\n",
    "    \n",
    "    U, H = g(phi[0], u)\n",
    "    U_dash = g_dash(H)\n",
    "    \n",
    "    # 推測\n",
    "    for j in range(1, infer_time):\n",
    "        phi[j] = phi[j-1] + dt * (-ep[j-1] + eu[j-1] * U_dash)\n",
    "        ep[j] = ep[j-1] + dt * (phi[j-1] - vp - sigma_p * ep[j-1])\n",
    "        eu[j] = eu[j-1] + dt * (u - U - sigma_u * eu[j-1])\n",
    "          \n",
    "    # 注意\n",
    "    vp = vp + ep[-1] * dt\n",
    "    sigma_p = max(sigma_p + 1/2 * (ep[-1] ** 2 - 1/sigma_p) * dt, 1)\n",
    "    sigma_u = max(sigma_u + 1/2 * (eu[-1] ** 2 - 1/sigma_u) * dt, 1) \n",
    "\n",
    "    if i == 0 or i == epoch - 1:\n",
    "        plt.scatter(range(infer_time), phi)\n",
    "        plt.xlabel(\"epoch\")\n",
    "        plt.ylabel(\"φ\")\n",
    "        plt.plot()\n",
    "        plt.grid()\n",
    "        plt.show()\n",
    "        \n",
    "#         print(\"v:\", v[i])\n",
    "        print(\"v:\", v)\n",
    "        print(\"phi:\", phi[-1])\n",
    "        print(\"u:\", u)\n",
    "        print(\"U:\", U)"
   ]
  }
 ],
 "metadata": {
  "kernelspec": {
   "display_name": "Python 3 (ipykernel)",
   "language": "python",
   "name": "python3"
  },
  "language_info": {
   "codemirror_mode": {
    "name": "ipython",
    "version": 3
   },
   "file_extension": ".py",
   "mimetype": "text/x-python",
   "name": "python",
   "nbconvert_exporter": "python",
   "pygments_lexer": "ipython3",
   "version": "3.8.12"
  }
 },
 "nbformat": 4,
 "nbformat_minor": 5
}

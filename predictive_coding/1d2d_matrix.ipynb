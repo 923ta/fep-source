{
 "cells": [
  {
   "cell_type": "code",
   "execution_count": null,
   "id": "a7c99816",
   "metadata": {},
   "outputs": [],
   "source": [
    "import random\n",
    "import numpy as np\n",
    "from scipy.stats import norm \n",
    "import matplotlib.pyplot as plt"
   ]
  },
  {
   "cell_type": "code",
   "execution_count": null,
   "id": "67bc1943",
   "metadata": {},
   "outputs": [],
   "source": [
    "sigma_u = 1\n",
    "vp = np.array([[2], [3]])\n",
    "sigma_p = np.array([[1, 0], [0, 1]])\n",
    "theta = np.array([[1], [1]])\n",
    "dt = 0.01"
   ]
  },
  {
   "cell_type": "code",
   "execution_count": null,
   "id": "a4d21bd4",
   "metadata": {},
   "outputs": [],
   "source": [
    "infer_epoch = 1000\n",
    "sample_number = 100"
   ]
  },
  {
   "cell_type": "code",
   "execution_count": null,
   "id": "57504046",
   "metadata": {},
   "outputs": [],
   "source": [
    "v_1 = np.random.normal(vp_1, 2, sample_number).tolist()\n",
    "v_2 = np.random.normal(vp_2, 3, sample_number).tolist()"
   ]
  },
  {
   "cell_type": "code",
   "execution_count": null,
   "id": "76273d8e",
   "metadata": {},
   "outputs": [],
   "source": [
    "for i in range(sample_number):\n",
    "    u = v_1[i] + v_2[i]\n",
    "    phi = np.array([[vp_1], [vp_2]])\n",
    "    ep = np.array([[0], [0]])\n",
    "    eu = (u - (phi_1[0] + phi_2[0])) / sigma_u\n",
    "    \n",
    "    for j in range(infer_epoch):\n",
    "        phi = phi + dt * (-ep)"
   ]
  }
 ],
 "metadata": {
  "kernelspec": {
   "display_name": "Python 3 (ipykernel)",
   "language": "python",
   "name": "python3"
  },
  "language_info": {
   "codemirror_mode": {
    "name": "ipython",
    "version": 3
   },
   "file_extension": ".py",
   "mimetype": "text/x-python",
   "name": "python",
   "nbconvert_exporter": "python",
   "pygments_lexer": "ipython3",
   "version": "3.8.12"
  }
 },
 "nbformat": 4,
 "nbformat_minor": 5
}

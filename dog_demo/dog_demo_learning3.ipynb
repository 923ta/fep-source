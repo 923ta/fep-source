{
 "cells": [
  {
   "cell_type": "code",
   "execution_count": 1,
   "id": "dbdecde7",
   "metadata": {},
   "outputs": [],
   "source": [
    "import numpy as np\n",
    "import matplotlib.pyplot as plt\n",
    "import random"
   ]
  },
  {
   "cell_type": "code",
   "execution_count": 2,
   "id": "0f307b1a",
   "metadata": {},
   "outputs": [
    {
     "name": "stdout",
     "output_type": "stream",
     "text": [
      "[[0. 8. 3. 8. 8. 8. 4. 8. 5. 4. 6. 1. 4. 8. 3. 8. 4. 2. 5. 7. 8. 6. 9. 5.\n",
      "  7. 5. 5. 8. 1. 9. 8. 5. 5. 6. 3. 6. 4. 8. 2. 1. 2. 8. 7. 5. 7. 8. 6. 1.\n",
      "  1. 9. 5. 2. 8. 4. 3. 7. 2. 8. 2. 4. 9. 2. 4. 8. 6. 1. 4. 8. 4. 0. 0. 8.\n",
      "  2. 0. 0. 9. 6. 7. 7. 1. 8. 7. 8. 1. 5. 5. 2. 5. 9. 6. 8. 1. 7. 4. 7. 6.\n",
      "  0. 2. 7. 5.]\n",
      " [5. 1. 6. 3. 1. 3. 8. 3. 2. 6. 0. 6. 7. 1. 6. 3. 7. 6. 0. 2. 3. 3. 1. 0.\n",
      "  0. 1. 1. 0. 6. 0. 3. 1. 0. 3. 7. 3. 8. 1. 7. 6. 5. 0. 0. 1. 2. 0. 0. 5.\n",
      "  8. 2. 2. 8. 1. 8. 7. 0. 5. 1. 7. 7. 1. 8. 8. 2. 2. 5. 5. 3. 7. 7. 6. 2.\n",
      "  5. 8. 7. 3. 2. 0. 2. 8. 3. 3. 3. 5. 3. 0. 6. 3. 1. 2. 0. 6. 1. 7. 3. 1.\n",
      "  6. 7. 0. 3.]]\n"
     ]
    }
   ],
   "source": [
    "#　条件設定\n",
    "dt = 0.001\n",
    "\n",
    "v_sample = np.random.randint(0, 10, (1, 100)) #　hapinessのみ\n",
    "v_sample_ang = np.zeros(100)\n",
    "for i in range(100):\n",
    "    v_sample_ang[i] = np.random.randint(0, 4) if v_sample[0, i] > 4 else np.random.randint(5, 9)\n",
    "v_sample = np.vstack([v_sample, v_sample_ang])      \n",
    "print(v_sample)\n",
    "u_sample = v_sample ** 2"
   ]
  },
  {
   "cell_type": "code",
   "execution_count": 3,
   "id": "5f31d57e",
   "metadata": {},
   "outputs": [
    {
     "name": "stdout",
     "output_type": "stream",
     "text": [
      "[[ 7.56474747 -5.68272727]\n",
      " [-5.68272727  7.42333333]]\n",
      "[[ 680.53121212 -415.05040404]\n",
      " [-415.05040404  478.15545455]]\n"
     ]
    }
   ],
   "source": [
    "sigma_p = np.cov(v_sample)\n",
    "sigma_u = np.cov(u_sample)\n",
    "vp = np.mean(v_sample, axis=1, keepdims=True)\n",
    "print(sigma_p)\n",
    "print(sigma_u)"
   ]
  },
  {
   "cell_type": "code",
   "execution_count": 4,
   "id": "f1b9682c",
   "metadata": {},
   "outputs": [],
   "source": [
    "theta = np.array([[0, 0],[0, 0]])"
   ]
  },
  {
   "cell_type": "code",
   "execution_count": 5,
   "id": "bc6fe71b",
   "metadata": {},
   "outputs": [
    {
     "name": "stdout",
     "output_type": "stream",
     "text": [
      "u:\n",
      "[[ 1.]\n",
      " [36.]]\n",
      "v:\n",
      "[[5.3144812 ]\n",
      " [3.58176085]]\n",
      "vp:\n",
      "[[5.3144812 ]\n",
      " [3.58176085]]\n",
      "Σp:\n",
      "[[ 7.41880089 -1.1741874 ]\n",
      " [-1.1741874   7.40822704]]\n",
      "ep:\n",
      "[[-4.43489168e-14]\n",
      " [ 4.18085279e-15]]\n",
      "Σu:\n",
      "[[ 680.3759638  -415.18446902]\n",
      " [-415.18446902  477.93594155]]\n",
      "eu:\n",
      "[[ 3.34834488e-18]\n",
      " [-2.05227917e-16]]\n",
      "θ:\n",
      "[[ 0.0363031  -0.00197477]\n",
      " [ 1.11261284  0.35666703]]\n"
     ]
    },
    {
     "data": {
      "image/png": "[encoded data removed]",
      "text/plain": [
       "<Figure size 432x288 with 1 Axes>"
      ]
     },
     "metadata": {
      "needs_background": "light"
     },
     "output_type": "display_data"
    },
    {
     "name": "stdout",
     "output_type": "stream",
     "text": [
      "u:\n",
      "[[25.]\n",
      " [ 1.]]\n",
      "v:\n",
      "[[nan]\n",
      " [nan]]\n",
      "vp:\n",
      "[[nan]\n",
      " [nan]]\n",
      "Σp:\n",
      "[[nan nan]\n",
      " [nan nan]]\n",
      "ep:\n",
      "[[nan]\n",
      " [nan]]\n",
      "Σu:\n",
      "[[nan nan]\n",
      " [nan nan]]\n",
      "eu:\n",
      "[[nan]\n",
      " [nan]]\n",
      "θ:\n",
      "[[nan nan]\n",
      " [nan nan]]\n"
     ]
    },
    {
     "name": "stderr",
     "output_type": "stream",
     "text": [
      "/tmp/ipykernel_579737/2172164035.py:22: RuntimeWarning: invalid value encountered in subtract\n",
      "  v = v + dt * (np.dot(dg_T, eu) - ep)\n",
      "/tmp/ipykernel_579737/2172164035.py:24: RuntimeWarning: invalid value encountered in add\n",
      "  eu = eu + dt * (u - g - np.dot(sigma_u, eu))\n"
     ]
    },
    {
     "data": {
      "image/png": "[encoded data removed]",
      "text/plain": [
       "<Figure size 432x288 with 1 Axes>"
      ]
     },
     "metadata": {
      "needs_background": "light"
     },
     "output_type": "display_data"
    },
    {
     "name": "stdout",
     "output_type": "stream",
     "text": [
      "u:\n",
      "[[64.]\n",
      " [ 9.]]\n",
      "v:\n",
      "[[nan]\n",
      " [nan]]\n",
      "vp:\n",
      "[[nan]\n",
      " [nan]]\n",
      "Σp:\n",
      "[[nan nan]\n",
      " [nan nan]]\n",
      "ep:\n",
      "[[nan]\n",
      " [nan]]\n",
      "Σu:\n",
      "[[nan nan]\n",
      " [nan nan]]\n",
      "eu:\n",
      "[[nan]\n",
      " [nan]]\n",
      "θ:\n",
      "[[nan nan]\n",
      " [nan nan]]\n"
     ]
    },
    {
     "data": {
      "image/png": "[encoded data removed]",
      "text/plain": [
       "<Figure size 432x288 with 1 Axes>"
      ]
     },
     "metadata": {
      "needs_background": "light"
     },
     "output_type": "display_data"
    },
    {
     "name": "stdout",
     "output_type": "stream",
     "text": [
      "u:\n",
      "[[ 4.]\n",
      " [49.]]\n",
      "v:\n",
      "[[nan]\n",
      " [nan]]\n",
      "vp:\n",
      "[[nan]\n",
      " [nan]]\n",
      "Σp:\n",
      "[[nan nan]\n",
      " [nan nan]]\n",
      "ep:\n",
      "[[nan]\n",
      " [nan]]\n",
      "Σu:\n",
      "[[nan nan]\n",
      " [nan nan]]\n",
      "eu:\n",
      "[[nan]\n",
      " [nan]]\n",
      "θ:\n",
      "[[nan nan]\n",
      " [nan nan]]\n"
     ]
    },
    {
     "data": {
      "image/png": "[encoded data removed]",
      "text/plain": [
       "<Figure size 432x288 with 1 Axes>"
      ]
     },
     "metadata": {
      "needs_background": "light"
     },
     "output_type": "display_data"
    },
    {
     "name": "stdout",
     "output_type": "stream",
     "text": [
      "u:\n",
      "[[16.]\n",
      " [64.]]\n",
      "v:\n",
      "[[nan]\n",
      " [nan]]\n",
      "vp:\n",
      "[[nan]\n",
      " [nan]]\n",
      "Σp:\n",
      "[[nan nan]\n",
      " [nan nan]]\n",
      "ep:\n",
      "[[nan]\n",
      " [nan]]\n",
      "Σu:\n",
      "[[nan nan]\n",
      " [nan nan]]\n",
      "eu:\n",
      "[[nan]\n",
      " [nan]]\n",
      "θ:\n",
      "[[nan nan]\n",
      " [nan nan]]\n"
     ]
    },
    {
     "data": {
      "image/png": "[encoded data removed]",
      "text/plain": [
       "<Figure size 432x288 with 1 Axes>"
      ]
     },
     "metadata": {
      "needs_background": "light"
     },
     "output_type": "display_data"
    },
    {
     "name": "stdout",
     "output_type": "stream",
     "text": [
      "u:\n",
      "[[36.]\n",
      " [ 4.]]\n",
      "v:\n",
      "[[nan]\n",
      " [nan]]\n",
      "vp:\n",
      "[[nan]\n",
      " [nan]]\n",
      "Σp:\n",
      "[[nan nan]\n",
      " [nan nan]]\n",
      "ep:\n",
      "[[nan]\n",
      " [nan]]\n",
      "Σu:\n",
      "[[nan nan]\n",
      " [nan nan]]\n",
      "eu:\n",
      "[[nan]\n",
      " [nan]]\n",
      "θ:\n",
      "[[nan nan]\n",
      " [nan nan]]\n"
     ]
    },
    {
     "data": {
      "image/png": "[encoded data removed]",
      "text/plain": [
       "<Figure size 432x288 with 1 Axes>"
      ]
     },
     "metadata": {
      "needs_background": "light"
     },
     "output_type": "display_data"
    },
    {
     "name": "stdout",
     "output_type": "stream",
     "text": [
      "u:\n",
      "[[25.]\n",
      " [ 9.]]\n",
      "v:\n",
      "[[nan]\n",
      " [nan]]\n",
      "vp:\n",
      "[[nan]\n",
      " [nan]]\n",
      "Σp:\n",
      "[[nan nan]\n",
      " [nan nan]]\n",
      "ep:\n",
      "[[nan]\n",
      " [nan]]\n",
      "Σu:\n",
      "[[nan nan]\n",
      " [nan nan]]\n",
      "eu:\n",
      "[[nan]\n",
      " [nan]]\n",
      "θ:\n",
      "[[nan nan]\n",
      " [nan nan]]\n"
     ]
    },
    {
     "data": {
      "image/png": "[encoded data removed]",
      "text/plain": [
       "<Figure size 432x288 with 1 Axes>"
      ]
     },
     "metadata": {
      "needs_background": "light"
     },
     "output_type": "display_data"
    },
    {
     "name": "stdout",
     "output_type": "stream",
     "text": [
      "u:\n",
      "[[49.]\n",
      " [ 0.]]\n",
      "v:\n",
      "[[nan]\n",
      " [nan]]\n",
      "vp:\n",
      "[[nan]\n",
      " [nan]]\n",
      "Σp:\n",
      "[[nan nan]\n",
      " [nan nan]]\n",
      "ep:\n",
      "[[nan]\n",
      " [nan]]\n",
      "Σu:\n",
      "[[nan nan]\n",
      " [nan nan]]\n",
      "eu:\n",
      "[[nan]\n",
      " [nan]]\n",
      "θ:\n",
      "[[nan nan]\n",
      " [nan nan]]\n"
     ]
    },
    {
     "data": {
      "image/png": "[encoded data removed]",
      "text/plain": [
       "<Figure size 432x288 with 1 Axes>"
      ]
     },
     "metadata": {
      "needs_background": "light"
     },
     "output_type": "display_data"
    },
    {
     "name": "stdout",
     "output_type": "stream",
     "text": [
      "u:\n",
      "[[16.]\n",
      " [49.]]\n",
      "v:\n",
      "[[nan]\n",
      " [nan]]\n",
      "vp:\n",
      "[[nan]\n",
      " [nan]]\n",
      "Σp:\n",
      "[[nan nan]\n",
      " [nan nan]]\n",
      "ep:\n",
      "[[nan]\n",
      " [nan]]\n",
      "Σu:\n",
      "[[nan nan]\n",
      " [nan nan]]\n",
      "eu:\n",
      "[[nan]\n",
      " [nan]]\n",
      "θ:\n",
      "[[nan nan]\n",
      " [nan nan]]\n"
     ]
    },
    {
     "data": {
      "image/png": "[encoded data removed]",
      "text/plain": [
       "<Figure size 432x288 with 1 Axes>"
      ]
     },
     "metadata": {
      "needs_background": "light"
     },
     "output_type": "display_data"
    },
    {
     "name": "stdout",
     "output_type": "stream",
     "text": [
      "u:\n",
      "[[81.]\n",
      " [ 1.]]\n",
      "v:\n",
      "[[nan]\n",
      " [nan]]\n",
      "vp:\n",
      "[[nan]\n",
      " [nan]]\n",
      "Σp:\n",
      "[[nan nan]\n",
      " [nan nan]]\n",
      "ep:\n",
      "[[nan]\n",
      " [nan]]\n",
      "Σu:\n",
      "[[nan nan]\n",
      " [nan nan]]\n",
      "eu:\n",
      "[[nan]\n",
      " [nan]]\n",
      "θ:\n",
      "[[nan nan]\n",
      " [nan nan]]\n"
     ]
    },
    {
     "data": {
      "image/png": "[encoded data removed]",
      "text/plain": [
       "<Figure size 432x288 with 1 Axes>"
      ]
     },
     "metadata": {
      "needs_background": "light"
     },
     "output_type": "display_data"
    }
   ],
   "source": [
    "for i in range(10):\n",
    "    index = random.randrange(100)\n",
    "    u = u_sample[:, index-1:index]\n",
    "    v = vp\n",
    "    Hap = []\n",
    "    Ang = []\n",
    "    Hap.append(v[0])\n",
    "    Ang.append(v[1])   \n",
    "    for j in range(9999):\n",
    "        h = v * v\n",
    "        g = np.dot(theta, h)\n",
    "        dg_T = 2 * v * theta.T\n",
    "\n",
    "        sp_rev = np.linalg.inv(sigma_p)\n",
    "        su_rev = np.linalg.inv(sigma_u)\n",
    "\n",
    "        ep = np.dot(sp_rev, (v - vp))\n",
    "        eu = np.dot(su_rev, (u - g))\n",
    "\n",
    "        # 知覚\n",
    "        for k in range(10):\n",
    "            v = v + dt * (np.dot(dg_T, eu) - ep)\n",
    "            ep = ep + dt * (v - vp - np.dot(sigma_p, ep))\n",
    "            eu = eu + dt * (u - g - np.dot(sigma_u, eu))\n",
    "\n",
    "        # 学習\n",
    "#         for k in range(5):\n",
    "        vp = vp + dt * ep\n",
    "        sigma_p = sigma_p + 1/2 * (np.dot(ep, ep.T) - sp_rev) * dt\n",
    "        sigma_u = sigma_u + 1/2 * (np.dot(eu, eu.T) - su_rev) * dt\n",
    "        theta = theta + np.dot(eu, h.T) * dt\n",
    "\n",
    "        Hap.append(v[0])\n",
    "        Ang.append(v[1])\n",
    "\n",
    "    print(\"u:\");print(u)\n",
    "    print(\"v:\");print(v)\n",
    "    print(\"vp:\");print(vp)\n",
    "    print(\"Σp:\");print(sigma_p)\n",
    "    print(\"ep:\");print(ep)\n",
    "    print(\"Σu:\");print(sigma_u)\n",
    "    print(\"eu:\");print(eu)\n",
    "    print(\"θ:\");print(theta)\n",
    "\n",
    "    fig = plt.figure()\n",
    "    plt.plot(range(10000), Hap, color='r', label='Happiness')\n",
    "    plt.plot(range(10000), Ang, color='g', label='Anger')\n",
    "    plt.xlabel('time')\n",
    "    plt.legend()\n",
    "    plt.grid()\n",
    "    plt.show()\n"
   ]
  },
  {
   "cell_type": "code",
   "execution_count": null,
   "id": "5d4ccd37",
   "metadata": {},
   "outputs": [],
   "source": []
  }
 ],
 "metadata": {
  "kernelspec": {
   "display_name": "Python 3 (ipykernel)",
   "language": "python",
   "name": "python3"
  },
  "language_info": {
   "codemirror_mode": {
    "name": "ipython",
    "version": 3
   },
   "file_extension": ".py",
   "mimetype": "text/x-python",
   "name": "python",
   "nbconvert_exporter": "python",
   "pygments_lexer": "ipython3",
   "version": "3.8.12"
  }
 },
 "nbformat": 4,
 "nbformat_minor": 5
}

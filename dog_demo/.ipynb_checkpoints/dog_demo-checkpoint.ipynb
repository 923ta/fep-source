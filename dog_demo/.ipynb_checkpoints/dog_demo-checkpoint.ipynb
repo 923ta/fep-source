{
 "cells": [
  {
   "cell_type": "code",
   "execution_count": 1,
   "id": "ea43583a",
   "metadata": {},
   "outputs": [],
   "source": [
    "import numpy as np\n",
    "import matplotlib.pyplot as plt"
   ]
  },
  {
   "cell_type": "code",
   "execution_count": 2,
   "id": "56d53b28",
   "metadata": {},
   "outputs": [],
   "source": [
    "#　条件設定\n",
    "u = np.array([1.0, 0.1])\n",
    "sigma_u = np.array([[1, 0], [0, 1]])\n",
    "vp = np.array([0.5, 0.5, 0.5])\n",
    "sigma_p = np.array([[1, 0, 0], [0, 1, 0], [0, 0, 1]])\n",
    "theta = np.array([[1.0, 0.5, 0.2],[0.1, 0.3, 0.9]])\n",
    "\n",
    "dt = 0.01"
   ]
  },
  {
   "cell_type": "code",
   "execution_count": 3,
   "id": "a9a049ab",
   "metadata": {},
   "outputs": [],
   "source": [
    "v = list(np.array([0, 0, 0]) for i in range(3000))\n",
    "v[0] = vp\n",
    "ep = list(np.array([0, 0, 0]) for i in range(3000))\n",
    "eu = list(np.array([0, 0]) for i in range(3000))"
   ]
  },
  {
   "cell_type": "code",
   "execution_count": 4,
   "id": "6bf75099",
   "metadata": {},
   "outputs": [],
   "source": [
    "# 知覚\n",
    "for i in range(1, 3000):\n",
    "    h = v[i-1]*v[i-1]\n",
    "    g = theta.dot(h)\n",
    "    dg = theta*2*v[i-1]\n",
    "\n",
    "    v[i] = v[i-1] + dt * (dg.T.dot(eu[i-1]) - ep[i-1])\n",
    "    ep[i] = ep[i-1] + dt * (v[i-1] - vp - sigma_p.dot(ep[i-1]))\n",
    "    eu[i] = eu[i-1] + dt * (u - g - sigma_u.dot(eu[i-1]))"
   ]
  },
  {
   "cell_type": "code",
   "execution_count": 5,
   "id": "bff07111",
   "metadata": {},
   "outputs": [],
   "source": [
    "Hap = list(v[i][0] for i in range(3000))\n",
    "Sad = list(v[i][1] for i in range(3000))\n",
    "Ang = list(v[i][2] for i in range(3000))"
   ]
  },
  {
   "cell_type": "code",
   "execution_count": 6,
   "id": "ffc7d100",
   "metadata": {},
   "outputs": [
    {
     "data": {
      "image/png": "[encoded data removed]",
      "text/plain": [
       "<Figure size 432x288 with 1 Axes>"
      ]
     },
     "metadata": {
      "needs_background": "light"
     },
     "output_type": "display_data"
    }
   ],
   "source": [
    "fig = plt.figure()\n",
    "plt.plot(np.arange(0,30,0.01), Hap, color='r', label='Happiness')\n",
    "plt.plot(np.arange(0,30,0.01), Sad, color='g', label='Sadness')\n",
    "plt.plot(np.arange(0,30,0.01), Ang, color='b', label='Anger')\n",
    "plt.xlabel('time')\n",
    "plt.legend()\n",
    "plt.grid()\n",
    "plt.show()"
   ]
  },
  {
   "cell_type": "code",
   "execution_count": 7,
   "id": "97d4e414",
   "metadata": {},
   "outputs": [
    {
     "data": {
      "text/plain": [
       "array([ 0.28611625,  0.04700511, -0.10483746])"
      ]
     },
     "execution_count": 7,
     "metadata": {},
     "output_type": "execute_result"
    }
   ],
   "source": [
    "ep[-1]"
   ]
  },
  {
   "cell_type": "code",
   "execution_count": 8,
   "id": "a8178b16",
   "metadata": {},
   "outputs": [
    {
     "data": {
      "text/plain": [
       "array([ 0.20118325, -0.19210034])"
      ]
     },
     "execution_count": 8,
     "metadata": {},
     "output_type": "execute_result"
    }
   ],
   "source": [
    "eu[-1]"
   ]
  },
  {
   "cell_type": "code",
   "execution_count": null,
   "id": "74e3973e",
   "metadata": {},
   "outputs": [],
   "source": []
  }
 ],
 "metadata": {
  "kernelspec": {
   "display_name": "Python 3 (ipykernel)",
   "language": "python",
   "name": "python3"
  },
  "language_info": {
   "codemirror_mode": {
    "name": "ipython",
    "version": 3
   },
   "file_extension": ".py",
   "mimetype": "text/x-python",
   "name": "python",
   "nbconvert_exporter": "python",
   "pygments_lexer": "ipython3",
   "version": "3.8.12"
  }
 },
 "nbformat": 4,
 "nbformat_minor": 5
}
